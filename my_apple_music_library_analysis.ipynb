{
 "cells": [
  {
   "cell_type": "markdown",
   "id": "2cdfaf13",
   "metadata": {},
   "source": [
    "# Apple Music Library Analysis"
   ]
  },
  {
   "cell_type": "markdown",
   "id": "98ee35a4",
   "metadata": {},
   "source": [
    "In this Jupyter Notebook, we import the Apple Music Library, which can be exported as an XML file directly from the Apple Music app on macOS. We then analyze it using Pandas to discover the most played songs, albums, and artists, along with other interesting KPIs. This analysis extends what was reported in the following **Medium** article:, [iTunes Library analysis using Python](https://leojosefm.medium.com/python-analyzing-itunes-library-97bec60e13cb)."
   ]
  },
  {
   "cell_type": "markdown",
   "id": "d9a29092",
   "metadata": {},
   "source": [
    "## Reading the Apple Music Library XML"
   ]
  },
  {
   "cell_type": "code",
   "execution_count": 1,
   "id": "6d0c8bf4",
   "metadata": {},
   "outputs": [],
   "source": [
    "import os\n",
    "import pandas as pd\n",
    "import numpy as np\n",
    "import xml.etree.ElementTree as ET\n",
    "from IPython.display import display, Image\n",
    "import datetime\n",
    "\n",
    "import matplotlib.pyplot as plt\n",
    "\n",
    "plt.style.use('ggplot')"
   ]
  },
  {
   "cell_type": "code",
   "execution_count": 2,
   "id": "4e3c83e1",
   "metadata": {},
   "outputs": [],
   "source": [
    "def plot_df(df, kind, x, y, xlabel, ylabel, color, title):\n",
    "    \n",
    "    plt.clf()\n",
    "    \n",
    "    # Define fig, ax\n",
    "    fig, ax = plt.subplots(figsize=(12,4))\n",
    "    fig.suptitle(title)\n",
    "    # Make plot\n",
    "    if kind=='bar':\n",
    "        plot = df.plot(kind=kind, x=x, y=y, color=color, ax=ax, width=0.95)\n",
    "    else:\n",
    "        plot = df.plot(kind=kind, x=x, y=y, color=color, ax=ax)\n",
    "    # Set labels\n",
    "    ax.set_xlabel(xlabel)\n",
    "    ax.set_ylabel(ylabel)\n",
    "    \n",
    "    ax.tick_params(axis='x', rotation=80, labelsize=8)\n",
    "    \n",
    "    # Set legend\n",
    "    legend = plt.legend()\n",
    "    frame = legend.get_frame()\n",
    "    frame.set_facecolor('white')\n",
    "\n",
    "    return plot"
   ]
  },
  {
   "cell_type": "code",
   "execution_count": 3,
   "id": "b3d3b43d",
   "metadata": {},
   "outputs": [],
   "source": [
    "parent_dir = 'LIBRARIES'"
   ]
  },
  {
   "cell_type": "markdown",
   "id": "14ecee1d",
   "metadata": {},
   "source": [
    "Below are the main functions used to read the XML tree structure, extract the relevant information (such as the tracklist), and build a Pandas dataframe for further analysis:"
   ]
  },
  {
   "cell_type": "code",
   "execution_count": 4,
   "id": "e5b4cfb0",
   "metadata": {},
   "outputs": [],
   "source": [
    "# Function to retrieve the tracklist from the XML structure:\n",
    "def retrieve_tracklist(file_path):\n",
    "    tree = ET.parse(file_path)\n",
    "    root = tree.getroot()\n",
    "    # Each song attribute is listed under the <dict> tag in the XML\n",
    "    main_dict=root.findall('dict')\n",
    "    for item in list(main_dict[0]):    \n",
    "        if item.tag==\"dict\":\n",
    "            tracks_dict=item\n",
    "            break\n",
    "    tracklist=list(tracks_dict.findall('dict'))\n",
    "    \n",
    "    return tracklist"
   ]
  },
  {
   "cell_type": "markdown",
   "id": "67f9b505",
   "metadata": {},
   "source": [
    "**WARNING**: If the language on your computer is not set to Italian, you may need to replace the strings \"File audio AAC acquistato\" and \"File audio AAC Apple Music\" with the corresponding versions in your language."
   ]
  },
  {
   "cell_type": "code",
   "execution_count": 5,
   "id": "660d3f8f",
   "metadata": {},
   "outputs": [],
   "source": [
    "# Function to create a list of purchased and apple music songs:\n",
    "def create_lists(tracklist):\n",
    "    purchased=[] # All purchased music\n",
    "    apple_music=[] # Music added to library through subscription\n",
    "    for item in tracklist:\n",
    "        x=list(item)\n",
    "        for i in range(len(x)):\n",
    "            if x[i].text==\"Kind\" and x[i+1].text==\"File audio AAC acquistato\":\n",
    "                purchased.append(list(item)) \n",
    "            if x[i].text==\"Kind\" and x[i+1].text==\"File audio AAC Apple Music\":\n",
    "                apple_music.append(list(item))\n",
    "    return purchased, apple_music"
   ]
  },
  {
   "cell_type": "code",
   "execution_count": 6,
   "id": "2a3d8ad1",
   "metadata": {},
   "outputs": [],
   "source": [
    "# Function to define columns in the Pandas Dataframe\n",
    "def cols(kind):\n",
    "    cols=[]\n",
    "    for i in range(len(kind)):\n",
    "        for j in range(len(kind[i])):\n",
    "            if kind[i][j].tag==\"key\":\n",
    "                cols.append(kind[i][j].text)\n",
    "    return set(cols)"
   ]
  },
  {
   "cell_type": "code",
   "execution_count": 7,
   "id": "4528ff73",
   "metadata": {},
   "outputs": [],
   "source": [
    "# Function to create the final Pandas Dataframe:\n",
    "def df_creation(kind, cols):\n",
    "    df = pd.DataFrame(columns=cols)\n",
    "    df_list = []\n",
    "    for row in kind:\n",
    "        dict1 = {}\n",
    "        for i in range(len(row) - 1):\n",
    "            if row[i].tag == \"key\":\n",
    "                dict1[row[i].text] = row[i+1].text\n",
    "        if \"Play Count\" not in dict1:\n",
    "            dict1[\"Play Count\"] = 0\n",
    "        list_values = [i for i in dict1.values()]\n",
    "        list_keys = [j for j in dict1.keys()]\n",
    "        df_temp = pd.DataFrame([list_values], columns=list_keys)\n",
    "        df_list.append(df_temp)\n",
    "\n",
    "    df = pd.concat(df_list, axis=0, ignore_index=True, sort=True)\n",
    "    return df"
   ]
  },
  {
   "cell_type": "code",
   "execution_count": 8,
   "id": "6dca04e0",
   "metadata": {},
   "outputs": [],
   "source": [
    "columns_of_interest=['track_id','song_name','play_count','skip_count','album','artist' \\\n",
    " ,'genre','kind','persistent_id','year_of_release','play_date','skip_date',\\\n",
    " 'release_date','date_modified']"
   ]
  },
  {
   "cell_type": "markdown",
   "id": "7804fa9f",
   "metadata": {},
   "source": [
    "When you export your Apple Music Library as an XML file, it includes a record of all the songs you've streamed since you started using the app. If you want to analyze your streaming habits on a monthly basis, you'll need to export your library at the end of each month (as explained in the README.md file) and run the following cells. These cells will combine each month's library into a single dataframe and generate a dataframe that shows the differences between each month."
   ]
  },
  {
   "cell_type": "code",
   "execution_count": 19,
   "id": "7292288b",
   "metadata": {},
   "outputs": [
    {
     "name": "stdout",
     "output_type": "stream",
     "text": [
      "Reading 2023-02-28 library file\n",
      "Reading 2023-03-18 library file\n"
     ]
    }
   ],
   "source": [
    "# Initiliaze an empty list to hold the dataframes\n",
    "df_list = []\n",
    "\n",
    "# Loop through each folder\n",
    "for folder in os.listdir(parent_dir):\n",
    "    folder_path = os.path.join(parent_dir, folder)\n",
    "    if os.path.isdir(folder_path):\n",
    "        year = int(folder)\n",
    "    \n",
    "        # Loop through each file in the folder\n",
    "        for file in os.listdir(folder_path):\n",
    "            if file.startswith(\"music_library_\"):\n",
    "                date = file.split(\"_\")[2][0:10]\n",
    "                print(f\"Reading {date} library file\")\n",
    "                file_path = os.path.join(folder_path, file)\n",
    "    \n",
    "                tracklist = retrieve_tracklist(file_path)\n",
    "                \n",
    "                # Create apple_music and purchased lists:\n",
    "                purchased, apple_music = create_lists(tracklist)\n",
    "                \n",
    "                # Define columns:\n",
    "                purchased_cols = cols(purchased)\n",
    "                apple_music_cols = cols(apple_music)\n",
    "                \n",
    "                # Create Pandas Dataframe:\n",
    "                df_purchased = df_creation(purchased,purchased_cols)\n",
    "                df_apple_music = df_creation(apple_music,apple_music_cols)\n",
    "                \n",
    "                # Create a single dataframe for purchased and apple music songs:\n",
    "                temp_apple = df_apple_music.loc[:,['Track ID','Name','Play Count','Skip Count','Album',\\\n",
    "                    'Artist','Genre','Kind','Persistent ID','Year','Play Date UTC',\\\n",
    "                    'Skip Date','Release Date','Date Modified']]\n",
    "                temp_purchased = df_purchased.loc[:,['Track ID','Name','Play Count','Skip Count', \\\n",
    "                    'Album','Artist','Genre','Kind','Persistent ID','Year',\\\n",
    "                    'Play Date UTC','Skip Date','Release Date','Date Modified']]\n",
    "                df_songs = pd.concat([temp_purchased,temp_apple],axis = 0)\n",
    "                df_songs.columns = columns_of_interest\n",
    "                \n",
    "                # Cast columns to appropriate datatypes\n",
    "                df_songs[['track_id','play_count','skip_count','year_of_release']] = df_songs[['track_id',\\\n",
    "                    'play_count','skip_count','year_of_release']].apply(pd.to_numeric)\n",
    "                df_songs[['play_date','skip_date','release_date','date_modified']] = df_songs[['play_date',\\\n",
    "                    'skip_date','release_date','date_modified']].apply(pd.to_datetime)\n",
    "                \n",
    "                # Create date columns (corresponding to the specific photograph of the Library)\n",
    "                df_songs['date'] = datetime.datetime.strptime(date, '%Y-%m-%d')\n",
    "                df_songs['year'] = df_songs['date'].dt.year\n",
    "                df_songs['month'] = df_songs['date'].dt.month\n",
    "                df_songs['week'] = df_songs['date'].dt.isocalendar().week\n",
    "                \n",
    "                # Append the dataframe to the list\n",
    "                df_list.append(df_songs)\n",
    "                \n",
    "                \n",
    "# Concatenate all the dataframes into a single dataframe\n",
    "df_library_history = pd.concat(df_list, ignore_index=True)"
   ]
  },
  {
   "cell_type": "code",
   "execution_count": 20,
   "id": "e2162962",
   "metadata": {
    "scrolled": false
   },
   "outputs": [
    {
     "data": {
      "text/html": [
       "<div>\n",
       "<style scoped>\n",
       "    .dataframe tbody tr th:only-of-type {\n",
       "        vertical-align: middle;\n",
       "    }\n",
       "\n",
       "    .dataframe tbody tr th {\n",
       "        vertical-align: top;\n",
       "    }\n",
       "\n",
       "    .dataframe thead th {\n",
       "        text-align: right;\n",
       "    }\n",
       "</style>\n",
       "<table border=\"1\" class=\"dataframe\">\n",
       "  <thead>\n",
       "    <tr style=\"text-align: right;\">\n",
       "      <th></th>\n",
       "      <th>track_id</th>\n",
       "      <th>song_name</th>\n",
       "      <th>play_count</th>\n",
       "      <th>skip_count</th>\n",
       "      <th>album</th>\n",
       "      <th>artist</th>\n",
       "      <th>genre</th>\n",
       "      <th>kind</th>\n",
       "      <th>persistent_id</th>\n",
       "      <th>year_of_release</th>\n",
       "      <th>play_date</th>\n",
       "      <th>skip_date</th>\n",
       "      <th>release_date</th>\n",
       "      <th>date_modified</th>\n",
       "      <th>date</th>\n",
       "      <th>year</th>\n",
       "      <th>month</th>\n",
       "      <th>week</th>\n",
       "    </tr>\n",
       "  </thead>\n",
       "  <tbody>\n",
       "    <tr>\n",
       "      <th>0</th>\n",
       "      <td>2</td>\n",
       "      <td>Intro</td>\n",
       "      <td>31</td>\n",
       "      <td>36.0</td>\n",
       "      <td>Fenomeno</td>\n",
       "      <td>Fabri Fibra</td>\n",
       "      <td>Hip Hop/Rap</td>\n",
       "      <td>File audio AAC acquistato</td>\n",
       "      <td>26F5FAF6CA27A142</td>\n",
       "      <td>2017</td>\n",
       "      <td>2021-10-20 08:02:47+00:00</td>\n",
       "      <td>2021-10-07 10:09:22+00:00</td>\n",
       "      <td>2017-04-07 07:00:00+00:00</td>\n",
       "      <td>2017-04-06 21:15:44+00:00</td>\n",
       "      <td>2023-02-28</td>\n",
       "      <td>2023</td>\n",
       "      <td>2</td>\n",
       "      <td>9</td>\n",
       "    </tr>\n",
       "    <tr>\n",
       "      <th>1</th>\n",
       "      <td>3</td>\n",
       "      <td>Tutti Matti (Aquadrop Remix)</td>\n",
       "      <td>99</td>\n",
       "      <td>9.0</td>\n",
       "      <td>Tradimento 10 Anni - Reloaded</td>\n",
       "      <td>Fabri Fibra</td>\n",
       "      <td>Hip Hop/Rap</td>\n",
       "      <td>File audio AAC acquistato</td>\n",
       "      <td>798DED70FD60F633</td>\n",
       "      <td>2006</td>\n",
       "      <td>2022-03-05 00:14:25+00:00</td>\n",
       "      <td>2022-02-18 23:42:57+00:00</td>\n",
       "      <td>2006-06-13 07:00:00+00:00</td>\n",
       "      <td>2016-07-02 07:56:52+00:00</td>\n",
       "      <td>2023-02-28</td>\n",
       "      <td>2023</td>\n",
       "      <td>2</td>\n",
       "      <td>9</td>\n",
       "    </tr>\n",
       "    <tr>\n",
       "      <th>2</th>\n",
       "      <td>4</td>\n",
       "      <td>Red carpet</td>\n",
       "      <td>37</td>\n",
       "      <td>17.0</td>\n",
       "      <td>Fenomeno</td>\n",
       "      <td>Fabri Fibra</td>\n",
       "      <td>Hip Hop/Rap</td>\n",
       "      <td>File audio AAC acquistato</td>\n",
       "      <td>0AF1EA782BC1B4C4</td>\n",
       "      <td>2017</td>\n",
       "      <td>2021-10-20 08:06:23+00:00</td>\n",
       "      <td>2022-11-27 17:28:23+00:00</td>\n",
       "      <td>2017-04-07 07:00:00+00:00</td>\n",
       "      <td>2017-04-06 21:15:44+00:00</td>\n",
       "      <td>2023-02-28</td>\n",
       "      <td>2023</td>\n",
       "      <td>2</td>\n",
       "      <td>9</td>\n",
       "    </tr>\n",
       "    <tr>\n",
       "      <th>3</th>\n",
       "      <td>5</td>\n",
       "      <td>Pamplona (feat. Thegiornalisti)</td>\n",
       "      <td>73</td>\n",
       "      <td>48.0</td>\n",
       "      <td>Fenomeno</td>\n",
       "      <td>Fabri Fibra</td>\n",
       "      <td>Hip Hop/Rap</td>\n",
       "      <td>File audio AAC acquistato</td>\n",
       "      <td>8555A5C2D2F63C05</td>\n",
       "      <td>2017</td>\n",
       "      <td>2022-12-24 19:13:30+00:00</td>\n",
       "      <td>2022-12-04 17:34:43+00:00</td>\n",
       "      <td>2017-04-07 07:00:00+00:00</td>\n",
       "      <td>2017-04-06 21:15:44+00:00</td>\n",
       "      <td>2023-02-28</td>\n",
       "      <td>2023</td>\n",
       "      <td>2</td>\n",
       "      <td>9</td>\n",
       "    </tr>\n",
       "    <tr>\n",
       "      <th>4</th>\n",
       "      <td>6</td>\n",
       "      <td>Skit - Il tempo vola</td>\n",
       "      <td>22</td>\n",
       "      <td>39.0</td>\n",
       "      <td>Fenomeno</td>\n",
       "      <td>Fabri Fibra</td>\n",
       "      <td>Hip Hop/Rap</td>\n",
       "      <td>File audio AAC acquistato</td>\n",
       "      <td>17880BA47A1D7B84</td>\n",
       "      <td>2017</td>\n",
       "      <td>2021-05-27 16:44:54+00:00</td>\n",
       "      <td>2021-10-20 08:09:51+00:00</td>\n",
       "      <td>2017-04-07 07:00:00+00:00</td>\n",
       "      <td>2017-04-06 21:15:44+00:00</td>\n",
       "      <td>2023-02-28</td>\n",
       "      <td>2023</td>\n",
       "      <td>2</td>\n",
       "      <td>9</td>\n",
       "    </tr>\n",
       "    <tr>\n",
       "      <th>5</th>\n",
       "      <td>7</td>\n",
       "      <td>Fenomeno</td>\n",
       "      <td>23</td>\n",
       "      <td>39.0</td>\n",
       "      <td>Fenomeno</td>\n",
       "      <td>Fabri Fibra</td>\n",
       "      <td>Hip Hop/Rap</td>\n",
       "      <td>File audio AAC acquistato</td>\n",
       "      <td>D07C277271891E95</td>\n",
       "      <td>2017</td>\n",
       "      <td>2021-10-20 08:09:42+00:00</td>\n",
       "      <td>2023-01-05 10:18:11+00:00</td>\n",
       "      <td>2017-04-07 07:00:00+00:00</td>\n",
       "      <td>2017-04-06 22:15:44+00:00</td>\n",
       "      <td>2023-02-28</td>\n",
       "      <td>2023</td>\n",
       "      <td>2</td>\n",
       "      <td>9</td>\n",
       "    </tr>\n",
       "    <tr>\n",
       "      <th>6</th>\n",
       "      <td>8</td>\n",
       "      <td>Dexter (feat. Nitro &amp; Salmo)</td>\n",
       "      <td>9</td>\n",
       "      <td>13.0</td>\n",
       "      <td>Squallor</td>\n",
       "      <td>Fabri Fibra</td>\n",
       "      <td>Hip Hop/Rap</td>\n",
       "      <td>File audio AAC acquistato</td>\n",
       "      <td>76499C82CD64F711</td>\n",
       "      <td>2015</td>\n",
       "      <td>2021-02-13 11:22:00+00:00</td>\n",
       "      <td>NaT</td>\n",
       "      <td>2015-04-07 07:00:00+00:00</td>\n",
       "      <td>2015-04-11 12:19:45+00:00</td>\n",
       "      <td>2023-02-28</td>\n",
       "      <td>2023</td>\n",
       "      <td>2</td>\n",
       "      <td>9</td>\n",
       "    </tr>\n",
       "    <tr>\n",
       "      <th>7</th>\n",
       "      <td>9</td>\n",
       "      <td>Equilibrio</td>\n",
       "      <td>82</td>\n",
       "      <td>10.0</td>\n",
       "      <td>Fenomeno</td>\n",
       "      <td>Fabri Fibra</td>\n",
       "      <td>Hip Hop/Rap</td>\n",
       "      <td>File audio AAC acquistato</td>\n",
       "      <td>9C3B4DEF5CB10904</td>\n",
       "      <td>2017</td>\n",
       "      <td>2022-09-23 17:49:55+00:00</td>\n",
       "      <td>2022-02-10 15:17:42+00:00</td>\n",
       "      <td>2017-04-07 07:00:00+00:00</td>\n",
       "      <td>2017-04-06 21:15:44+00:00</td>\n",
       "      <td>2023-02-28</td>\n",
       "      <td>2023</td>\n",
       "      <td>2</td>\n",
       "      <td>9</td>\n",
       "    </tr>\n",
       "    <tr>\n",
       "      <th>8</th>\n",
       "      <td>10</td>\n",
       "      <td>Le vacanze (Big Fish Remix)</td>\n",
       "      <td>7</td>\n",
       "      <td>9.0</td>\n",
       "      <td>Fenomeno (Masterchef EP)</td>\n",
       "      <td>Fabri Fibra</td>\n",
       "      <td>Hip Hop/Rap</td>\n",
       "      <td>File audio AAC acquistato</td>\n",
       "      <td>21560D45DC7878EE</td>\n",
       "      <td>2017</td>\n",
       "      <td>2020-09-12 12:29:59+00:00</td>\n",
       "      <td>2019-04-30 05:41:41+00:00</td>\n",
       "      <td>2017-11-17 08:00:00+00:00</td>\n",
       "      <td>2017-11-17 20:06:33+00:00</td>\n",
       "      <td>2023-02-28</td>\n",
       "      <td>2023</td>\n",
       "      <td>2</td>\n",
       "      <td>9</td>\n",
       "    </tr>\n",
       "    <tr>\n",
       "      <th>9</th>\n",
       "      <td>11</td>\n",
       "      <td>Skit - Considerazioni (feat. Roberto Saviano)</td>\n",
       "      <td>17</td>\n",
       "      <td>27.0</td>\n",
       "      <td>Fenomeno</td>\n",
       "      <td>Fabri Fibra</td>\n",
       "      <td>Hip Hop/Rap</td>\n",
       "      <td>File audio AAC acquistato</td>\n",
       "      <td>2A5385851C474657</td>\n",
       "      <td>2017</td>\n",
       "      <td>2020-01-16 22:52:24+00:00</td>\n",
       "      <td>2020-09-24 12:56:20+00:00</td>\n",
       "      <td>2017-04-07 07:00:00+00:00</td>\n",
       "      <td>2017-04-06 21:15:44+00:00</td>\n",
       "      <td>2023-02-28</td>\n",
       "      <td>2023</td>\n",
       "      <td>2</td>\n",
       "      <td>9</td>\n",
       "    </tr>\n",
       "  </tbody>\n",
       "</table>\n",
       "</div>"
      ],
      "text/plain": [
       "   track_id                                      song_name  play_count  \\\n",
       "0         2                                          Intro          31   \n",
       "1         3                   Tutti Matti (Aquadrop Remix)          99   \n",
       "2         4                                     Red carpet          37   \n",
       "3         5                Pamplona (feat. Thegiornalisti)          73   \n",
       "4         6                           Skit - Il tempo vola          22   \n",
       "5         7                                       Fenomeno          23   \n",
       "6         8                   Dexter (feat. Nitro & Salmo)           9   \n",
       "7         9                                     Equilibrio          82   \n",
       "8        10                    Le vacanze (Big Fish Remix)           7   \n",
       "9        11  Skit - Considerazioni (feat. Roberto Saviano)          17   \n",
       "\n",
       "   skip_count                          album       artist        genre  \\\n",
       "0        36.0                       Fenomeno  Fabri Fibra  Hip Hop/Rap   \n",
       "1         9.0  Tradimento 10 Anni - Reloaded  Fabri Fibra  Hip Hop/Rap   \n",
       "2        17.0                       Fenomeno  Fabri Fibra  Hip Hop/Rap   \n",
       "3        48.0                       Fenomeno  Fabri Fibra  Hip Hop/Rap   \n",
       "4        39.0                       Fenomeno  Fabri Fibra  Hip Hop/Rap   \n",
       "5        39.0                       Fenomeno  Fabri Fibra  Hip Hop/Rap   \n",
       "6        13.0                       Squallor  Fabri Fibra  Hip Hop/Rap   \n",
       "7        10.0                       Fenomeno  Fabri Fibra  Hip Hop/Rap   \n",
       "8         9.0       Fenomeno (Masterchef EP)  Fabri Fibra  Hip Hop/Rap   \n",
       "9        27.0                       Fenomeno  Fabri Fibra  Hip Hop/Rap   \n",
       "\n",
       "                        kind     persistent_id  year_of_release  \\\n",
       "0  File audio AAC acquistato  26F5FAF6CA27A142             2017   \n",
       "1  File audio AAC acquistato  798DED70FD60F633             2006   \n",
       "2  File audio AAC acquistato  0AF1EA782BC1B4C4             2017   \n",
       "3  File audio AAC acquistato  8555A5C2D2F63C05             2017   \n",
       "4  File audio AAC acquistato  17880BA47A1D7B84             2017   \n",
       "5  File audio AAC acquistato  D07C277271891E95             2017   \n",
       "6  File audio AAC acquistato  76499C82CD64F711             2015   \n",
       "7  File audio AAC acquistato  9C3B4DEF5CB10904             2017   \n",
       "8  File audio AAC acquistato  21560D45DC7878EE             2017   \n",
       "9  File audio AAC acquistato  2A5385851C474657             2017   \n",
       "\n",
       "                  play_date                 skip_date  \\\n",
       "0 2021-10-20 08:02:47+00:00 2021-10-07 10:09:22+00:00   \n",
       "1 2022-03-05 00:14:25+00:00 2022-02-18 23:42:57+00:00   \n",
       "2 2021-10-20 08:06:23+00:00 2022-11-27 17:28:23+00:00   \n",
       "3 2022-12-24 19:13:30+00:00 2022-12-04 17:34:43+00:00   \n",
       "4 2021-05-27 16:44:54+00:00 2021-10-20 08:09:51+00:00   \n",
       "5 2021-10-20 08:09:42+00:00 2023-01-05 10:18:11+00:00   \n",
       "6 2021-02-13 11:22:00+00:00                       NaT   \n",
       "7 2022-09-23 17:49:55+00:00 2022-02-10 15:17:42+00:00   \n",
       "8 2020-09-12 12:29:59+00:00 2019-04-30 05:41:41+00:00   \n",
       "9 2020-01-16 22:52:24+00:00 2020-09-24 12:56:20+00:00   \n",
       "\n",
       "               release_date             date_modified       date  year  month  \\\n",
       "0 2017-04-07 07:00:00+00:00 2017-04-06 21:15:44+00:00 2023-02-28  2023      2   \n",
       "1 2006-06-13 07:00:00+00:00 2016-07-02 07:56:52+00:00 2023-02-28  2023      2   \n",
       "2 2017-04-07 07:00:00+00:00 2017-04-06 21:15:44+00:00 2023-02-28  2023      2   \n",
       "3 2017-04-07 07:00:00+00:00 2017-04-06 21:15:44+00:00 2023-02-28  2023      2   \n",
       "4 2017-04-07 07:00:00+00:00 2017-04-06 21:15:44+00:00 2023-02-28  2023      2   \n",
       "5 2017-04-07 07:00:00+00:00 2017-04-06 22:15:44+00:00 2023-02-28  2023      2   \n",
       "6 2015-04-07 07:00:00+00:00 2015-04-11 12:19:45+00:00 2023-02-28  2023      2   \n",
       "7 2017-04-07 07:00:00+00:00 2017-04-06 21:15:44+00:00 2023-02-28  2023      2   \n",
       "8 2017-11-17 08:00:00+00:00 2017-11-17 20:06:33+00:00 2023-02-28  2023      2   \n",
       "9 2017-04-07 07:00:00+00:00 2017-04-06 21:15:44+00:00 2023-02-28  2023      2   \n",
       "\n",
       "   week  \n",
       "0     9  \n",
       "1     9  \n",
       "2     9  \n",
       "3     9  \n",
       "4     9  \n",
       "5     9  \n",
       "6     9  \n",
       "7     9  \n",
       "8     9  \n",
       "9     9  "
      ]
     },
     "execution_count": 20,
     "metadata": {},
     "output_type": "execute_result"
    }
   ],
   "source": [
    "df_library_history.head(10)"
   ]
  },
  {
   "cell_type": "markdown",
   "id": "31896608",
   "metadata": {},
   "source": [
    "### Data Cleaning"
   ]
  },
  {
   "cell_type": "code",
   "execution_count": 21,
   "id": "cdddb470",
   "metadata": {},
   "outputs": [],
   "source": [
    "# Replacing different words for \"Rap\" genre with \"Hip-Hop\":\n",
    "replacements = {'Hip Hop/Rap': 'Hip-Hop/Rap', \n",
    "                'Hip Hop': 'Hip-Hop/Rap',\n",
    "                'Hip-Hop': 'Hip-Hop/Rap'\n",
    "               \n",
    "               }\n",
    "df_library_history['genre'] = df_library_history['genre'].replace(replacements)"
   ]
  },
  {
   "cell_type": "markdown",
   "id": "303bdb90",
   "metadata": {},
   "source": [
    "## Point-In-Time Analysis"
   ]
  },
  {
   "cell_type": "markdown",
   "id": "79750a53",
   "metadata": {},
   "source": [
    "To begin our analysis, let's examine the library at a specific point in time to identify which songs and albums were the most streamed at that moment in the past."
   ]
  },
  {
   "cell_type": "code",
   "execution_count": 23,
   "id": "f82d4355",
   "metadata": {},
   "outputs": [
    {
     "name": "stdout",
     "output_type": "stream",
     "text": [
      "2023-02-28 00:00:00\n"
     ]
    }
   ],
   "source": [
    "# Time variable definition:\n",
    "date = '2023-02-10'\n",
    "target_date = datetime.datetime.strptime(date, '%Y-%m-%d')\n",
    "\n",
    "# Calculate absolute difference with target date\n",
    "df_library_history['diff'] = (df_library_history['date'] - target_date).abs()\n",
    "\n",
    "# find the row with the smallest difference\n",
    "closest_date_row = df_library_history.loc[df_library_history['diff'].idxmin()]\n",
    "\n",
    "# print the result\n",
    "print(closest_date_row.date)"
   ]
  },
  {
   "cell_type": "code",
   "execution_count": 17,
   "id": "c0e7bdbe",
   "metadata": {},
   "outputs": [
    {
     "ename": "KeyError",
     "evalue": "'year_libr'",
     "output_type": "error",
     "traceback": [
      "\u001b[0;31m---------------------------------------------------------------------------\u001b[0m",
      "\u001b[0;31mKeyError\u001b[0m                                  Traceback (most recent call last)",
      "File \u001b[0;32m/opt/miniconda3/lib/python3.9/site-packages/pandas/core/indexes/base.py:3629\u001b[0m, in \u001b[0;36mIndex.get_loc\u001b[0;34m(self, key, method, tolerance)\u001b[0m\n\u001b[1;32m   3628\u001b[0m \u001b[38;5;28;01mtry\u001b[39;00m:\n\u001b[0;32m-> 3629\u001b[0m     \u001b[38;5;28;01mreturn\u001b[39;00m \u001b[38;5;28;43mself\u001b[39;49m\u001b[38;5;241;43m.\u001b[39;49m\u001b[43m_engine\u001b[49m\u001b[38;5;241;43m.\u001b[39;49m\u001b[43mget_loc\u001b[49m\u001b[43m(\u001b[49m\u001b[43mcasted_key\u001b[49m\u001b[43m)\u001b[49m\n\u001b[1;32m   3630\u001b[0m \u001b[38;5;28;01mexcept\u001b[39;00m \u001b[38;5;167;01mKeyError\u001b[39;00m \u001b[38;5;28;01mas\u001b[39;00m err:\n",
      "File \u001b[0;32m/opt/miniconda3/lib/python3.9/site-packages/pandas/_libs/index.pyx:136\u001b[0m, in \u001b[0;36mpandas._libs.index.IndexEngine.get_loc\u001b[0;34m()\u001b[0m\n",
      "File \u001b[0;32m/opt/miniconda3/lib/python3.9/site-packages/pandas/_libs/index.pyx:163\u001b[0m, in \u001b[0;36mpandas._libs.index.IndexEngine.get_loc\u001b[0;34m()\u001b[0m\n",
      "File \u001b[0;32mpandas/_libs/hashtable_class_helper.pxi:5198\u001b[0m, in \u001b[0;36mpandas._libs.hashtable.PyObjectHashTable.get_item\u001b[0;34m()\u001b[0m\n",
      "File \u001b[0;32mpandas/_libs/hashtable_class_helper.pxi:5206\u001b[0m, in \u001b[0;36mpandas._libs.hashtable.PyObjectHashTable.get_item\u001b[0;34m()\u001b[0m\n",
      "\u001b[0;31mKeyError\u001b[0m: 'year_libr'",
      "\nThe above exception was the direct cause of the following exception:\n",
      "\u001b[0;31mKeyError\u001b[0m                                  Traceback (most recent call last)",
      "Cell \u001b[0;32mIn [17], line 2\u001b[0m\n\u001b[1;32m      1\u001b[0m \u001b[38;5;66;03m# Filter dataframe\u001b[39;00m\n\u001b[0;32m----> 2\u001b[0m df_month \u001b[38;5;241m=\u001b[39m df_library_history[(\u001b[43mdf_library_history\u001b[49m\u001b[43m[\u001b[49m\u001b[38;5;124;43m'\u001b[39;49m\u001b[38;5;124;43myear_libr\u001b[39;49m\u001b[38;5;124;43m'\u001b[39;49m\u001b[43m]\u001b[49m\u001b[38;5;241m==\u001b[39myear_analysis) \u001b[38;5;241m&\u001b[39m (df_library_history[\u001b[38;5;124m'\u001b[39m\u001b[38;5;124mmonth_libr\u001b[39m\u001b[38;5;124m'\u001b[39m]\u001b[38;5;241m==\u001b[39m\u001b[38;5;241m2\u001b[39m)]\n",
      "File \u001b[0;32m/opt/miniconda3/lib/python3.9/site-packages/pandas/core/frame.py:3505\u001b[0m, in \u001b[0;36mDataFrame.__getitem__\u001b[0;34m(self, key)\u001b[0m\n\u001b[1;32m   3503\u001b[0m \u001b[38;5;28;01mif\u001b[39;00m \u001b[38;5;28mself\u001b[39m\u001b[38;5;241m.\u001b[39mcolumns\u001b[38;5;241m.\u001b[39mnlevels \u001b[38;5;241m>\u001b[39m \u001b[38;5;241m1\u001b[39m:\n\u001b[1;32m   3504\u001b[0m     \u001b[38;5;28;01mreturn\u001b[39;00m \u001b[38;5;28mself\u001b[39m\u001b[38;5;241m.\u001b[39m_getitem_multilevel(key)\n\u001b[0;32m-> 3505\u001b[0m indexer \u001b[38;5;241m=\u001b[39m \u001b[38;5;28;43mself\u001b[39;49m\u001b[38;5;241;43m.\u001b[39;49m\u001b[43mcolumns\u001b[49m\u001b[38;5;241;43m.\u001b[39;49m\u001b[43mget_loc\u001b[49m\u001b[43m(\u001b[49m\u001b[43mkey\u001b[49m\u001b[43m)\u001b[49m\n\u001b[1;32m   3506\u001b[0m \u001b[38;5;28;01mif\u001b[39;00m is_integer(indexer):\n\u001b[1;32m   3507\u001b[0m     indexer \u001b[38;5;241m=\u001b[39m [indexer]\n",
      "File \u001b[0;32m/opt/miniconda3/lib/python3.9/site-packages/pandas/core/indexes/base.py:3631\u001b[0m, in \u001b[0;36mIndex.get_loc\u001b[0;34m(self, key, method, tolerance)\u001b[0m\n\u001b[1;32m   3629\u001b[0m     \u001b[38;5;28;01mreturn\u001b[39;00m \u001b[38;5;28mself\u001b[39m\u001b[38;5;241m.\u001b[39m_engine\u001b[38;5;241m.\u001b[39mget_loc(casted_key)\n\u001b[1;32m   3630\u001b[0m \u001b[38;5;28;01mexcept\u001b[39;00m \u001b[38;5;167;01mKeyError\u001b[39;00m \u001b[38;5;28;01mas\u001b[39;00m err:\n\u001b[0;32m-> 3631\u001b[0m     \u001b[38;5;28;01mraise\u001b[39;00m \u001b[38;5;167;01mKeyError\u001b[39;00m(key) \u001b[38;5;28;01mfrom\u001b[39;00m \u001b[38;5;21;01merr\u001b[39;00m\n\u001b[1;32m   3632\u001b[0m \u001b[38;5;28;01mexcept\u001b[39;00m \u001b[38;5;167;01mTypeError\u001b[39;00m:\n\u001b[1;32m   3633\u001b[0m     \u001b[38;5;66;03m# If we have a listlike key, _check_indexing_error will raise\u001b[39;00m\n\u001b[1;32m   3634\u001b[0m     \u001b[38;5;66;03m#  InvalidIndexError. Otherwise we fall through and re-raise\u001b[39;00m\n\u001b[1;32m   3635\u001b[0m     \u001b[38;5;66;03m#  the TypeError.\u001b[39;00m\n\u001b[1;32m   3636\u001b[0m     \u001b[38;5;28mself\u001b[39m\u001b[38;5;241m.\u001b[39m_check_indexing_error(key)\n",
      "\u001b[0;31mKeyError\u001b[0m: 'year_libr'"
     ]
    }
   ],
   "source": [
    "# Filter dataframe\n",
    "df_month = df_library_history[(df_library_history['year']==year_analysis) & (df_library_history['month']==2)]"
   ]
  },
  {
   "cell_type": "markdown",
   "id": "b18ac4cb",
   "metadata": {},
   "source": [
    "To facilitate further analysis, it would be useful to have a dataframe that lists only the albums and their corresponding artists. Because it may happen that collaborative songs (with multiple artists) are recorded as a single artist song, we cannot make a simple distinct list of artists and albums. Below is the code to extract the album/artist distinct couples:"
   ]
  },
  {
   "cell_type": "code",
   "execution_count": null,
   "id": "b1ba6410",
   "metadata": {},
   "outputs": [],
   "source": [
    "# Find artist of each album\n",
    "all_albums = df_month.groupby(['album', 'artist']).size().to_frame().reset_index()\n",
    "all_albums = all_albums.rename(columns={0: 'song_count'})\n",
    "\n",
    "all_albums = all_albums.loc[all_albums.groupby('album')['song_count'].idxmax()]\n",
    "all_albums = all_albums[['album', 'artist']]\n",
    "\n",
    "# Remove album names containing 'Single':\n",
    "all_albums = all_albums[~all_albums['album'].str.contains('Single')]\n",
    "\n",
    "display(all_albums.head(10))"
   ]
  },
  {
   "cell_type": "markdown",
   "id": "72b27242",
   "metadata": {},
   "source": [
    "### Top Genre, Artist, Songs and Albums"
   ]
  },
  {
   "cell_type": "markdown",
   "id": "33658d35",
   "metadata": {},
   "source": [
    "We are now ready to construct and plot the most common charts used when analyzing music data. If you wish to adjust the number of elements displayed on each chart, please modify the following parameter:"
   ]
  },
  {
   "cell_type": "code",
   "execution_count": null,
   "id": "8fc054ce",
   "metadata": {},
   "outputs": [],
   "source": [
    "# Top N charts\n",
    "n_topcharts = 30"
   ]
  },
  {
   "cell_type": "code",
   "execution_count": null,
   "id": "1d4d383d",
   "metadata": {},
   "outputs": [],
   "source": [
    "# Top Genres\n",
    "df_genres_count = df_month.groupby('genre')['play_count'].sum().to_frame().reset_index()\n",
    "\n",
    "topN_genre = df_genres_count.sort_values(by='play_count', ascending=False).head(n_topcharts)"
   ]
  },
  {
   "cell_type": "code",
   "execution_count": null,
   "id": "00ca376e",
   "metadata": {},
   "outputs": [],
   "source": [
    "%matplotlib inline\n",
    "plot_genre = plot_df(topN_genre, 'bar', 'genre', 'play_count', 'Genre', 'Play Count', \n",
    "                     'blue', f'Top {n_topcharts} Genre')"
   ]
  },
  {
   "cell_type": "code",
   "execution_count": null,
   "id": "18730323",
   "metadata": {
    "scrolled": false
   },
   "outputs": [],
   "source": [
    "# Top Artists\n",
    "df_artist_count = df_month.groupby('artist')['play_count'].sum().to_frame().reset_index()\n",
    "topN_artist= df_artist_count.sort_values(by='play_count', ascending=False).head(n_topcharts)"
   ]
  },
  {
   "cell_type": "code",
   "execution_count": null,
   "id": "712f3583",
   "metadata": {
    "scrolled": false
   },
   "outputs": [],
   "source": [
    "plot_artist = plot_df(topN_artist, 'bar', 'artist', 'play_count', 'Artist', 'Play Count', \n",
    "                      'orange', f'Top {n_topcharts} Artist')\n",
    "\n",
    "\n",
    "for i, n in enumerate(topN_artist['play_count']):\n",
    "    height = n\n",
    "    plot_artist.text(x=i, y=height/2, s=str(i+1)+'°', ha='center', va='center', \n",
    "                   rotation=0, fontsize=9, fontweight='bold', color='red')"
   ]
  },
  {
   "cell_type": "code",
   "execution_count": null,
   "id": "c21f5a94",
   "metadata": {
    "scrolled": false
   },
   "outputs": [],
   "source": [
    "# Top Songs \n",
    "topN_songs =  df_month[['song_name', 'artist', 'play_count']].sort_values(by='play_count', ascending=False)\\\n",
    "    .head(n_topcharts)\n",
    "\n",
    "plot_songs = plot_df(topN_songs, 'bar', 'song_name', 'play_count', 'Song', 'Play Count', \n",
    "                     'purple', f'Top {n_topcharts} Songs')\n",
    "\n",
    "for i, pc in enumerate(topN_songs['play_count']):\n",
    "    height = pc\n",
    "    artist = topN_songs.iloc[i,1]\n",
    "    plot_songs.text(x=i, y=height/2, s=str(artist), ha='center', va='center', \n",
    "                   rotation=90, fontsize=7, fontweight='bold', color='white')"
   ]
  },
  {
   "cell_type": "markdown",
   "id": "f0124660",
   "metadata": {},
   "source": [
    "It may also be interesting to see which are the artist with the most songs in the Top (N) Chart:"
   ]
  },
  {
   "cell_type": "code",
   "execution_count": null,
   "id": "77ac522e",
   "metadata": {},
   "outputs": [],
   "source": [
    "# Find distint songs per artist in Top N\n",
    "nsongs_in_topN = topN_songs.groupby('artist')['song_name'].nunique().to_frame().reset_index()\n",
    "nsongs_in_topN = nsongs_in_topN.rename(columns={'song_name':'n_songs'})\n",
    "nsongs_in_topN = nsongs_in_topN.sort_values(by='n_songs', ascending=False)"
   ]
  },
  {
   "cell_type": "code",
   "execution_count": null,
   "id": "b3807533",
   "metadata": {},
   "outputs": [],
   "source": [
    "plot_nsongs_in_topN = plot_df(nsongs_in_topN, 'bar', 'artist', 'n_songs', 'Artist', 'Number of Songs', \n",
    "                     'darkred', f' Artists with more Songs in Top {n_topcharts}')\n",
    "\n",
    "for i, nsongs in enumerate(nsongs_in_topN['n_songs']):\n",
    "    height = nsongs\n",
    "    plot_nsongs_in_topN.text(x=i, y=height/2, s=str(i+1)+'°', ha='center', va='center', \n",
    "                   rotation=0, fontsize=9, fontweight='bold', color='white')"
   ]
  },
  {
   "cell_type": "code",
   "execution_count": null,
   "id": "b382e880",
   "metadata": {
    "scrolled": false
   },
   "outputs": [],
   "source": [
    "# Top Albums\n",
    "topN_albums =  df_month.groupby('album')['play_count'].sum().to_frame().reset_index()\\\n",
    "    .sort_values(by='play_count', ascending=False).head(n_topcharts)\n",
    "\n",
    "# Join with all_albums\n",
    "topN_albums = topN_albums.merge(all_albums, on='album', how='left')\n",
    "\n",
    "plot_albums = plot_df(topN_albums, 'bar', 'album', 'play_count', 'Album', 'Play Count', \n",
    "                      'green', f'Top {n_topcharts} Albums')\n",
    "\n",
    "for i, pc in enumerate(topN_albums['play_count']):\n",
    "    height = pc\n",
    "    artist = topN_albums.iloc[i,2]\n",
    "    plot_albums.text(x=i, y=height/2, s=str(artist), ha='center', va='center', \n",
    "                   rotation=90, fontsize=6, fontweight='bold', color='white')"
   ]
  },
  {
   "cell_type": "markdown",
   "id": "94ed9f48",
   "metadata": {},
   "source": [
    "### Other KPI"
   ]
  },
  {
   "cell_type": "markdown",
   "id": "50a36564",
   "metadata": {},
   "source": [
    "Next, let's see which artists are the most represented (in terms of distinct songs) in our library:"
   ]
  },
  {
   "cell_type": "code",
   "execution_count": null,
   "id": "84024a0f",
   "metadata": {
    "scrolled": true
   },
   "outputs": [],
   "source": [
    "# Find total number of songs per each artist\n",
    "artist_songs = df_month.groupby('artist')['song_name'].nunique().to_frame().reset_index()\n",
    "\n",
    "top10_artist_songs = artist_songs.sort_values(by='song_name', ascending=False).head(10)\n",
    "\n",
    "# Find total number of songs\n",
    "tot_songs = df_month['song_name'].nunique()\n",
    "tot_songs_by_top10 = top10_artist_songs['song_name'].sum()\n",
    "\n",
    "other_songs = tot_songs-tot_songs_by_top10\n",
    "top10_artist_songs.loc[10] = ['Altri', other_songs]"
   ]
  },
  {
   "cell_type": "code",
   "execution_count": null,
   "id": "0a66cc54",
   "metadata": {
    "scrolled": false
   },
   "outputs": [],
   "source": [
    "# Create a sample dataframe\n",
    "data = {'label': ['A', 'B', 'C', 'D'],\n",
    "        'value': [25, 20, 30, 15]}\n",
    "df = pd.DataFrame(data)\n",
    "\n",
    "# Create a donut chart\n",
    "fig, ax = plt.subplots()\n",
    "\n",
    "# Create the outer ring of the donut chart\n",
    "wedges, texts, autotexts = ax.pie(top10_artist_songs['song_name'], labels=top10_artist_songs['artist'], autopct='%1.1f%%', startangle=-90, pctdistance=0.75, radius=1.25)\n",
    "\n",
    "# Create the inner circle of the donut chart\n",
    "circle = plt.Circle(xy=(0, 0), radius=0.5, color='white')\n",
    "ax.add_artist(circle)\n",
    "\n",
    "# Set the title\n",
    "ax.set_title('Library Composition by Artist')\n",
    "\n",
    "# Show the plot\n",
    "plt.show()"
   ]
  },
  {
   "cell_type": "markdown",
   "id": "6d0da28e",
   "metadata": {},
   "source": [
    "Which artists have the most albums?"
   ]
  },
  {
   "cell_type": "code",
   "execution_count": null,
   "id": "d6afa06d",
   "metadata": {},
   "outputs": [],
   "source": [
    "# Find Artist with the most albums:\n",
    "n_topartist_by_album = 20 \n",
    "n_albums_per_artist = all_albums.groupby('artist')['album'].nunique().to_frame().reset_index()\n",
    "n_albums_per_artist = n_albums_per_artist.rename(columns={'album':'n_albums'})\n",
    "\n",
    "top_artist_by_n_albums = n_albums_per_artist.sort_values(by='n_albums', ascending=False).head(n_topartist_by_album)"
   ]
  },
  {
   "cell_type": "code",
   "execution_count": null,
   "id": "d83cce15",
   "metadata": {},
   "outputs": [],
   "source": [
    "plot_artist_by_n_albums = plot_df(top_artist_by_n_albums, 'bar', 'artist', 'n_albums', 'Artist', 'N Albums', \n",
    "                      'green', f'Top {n_topartist_by_album} Artist vs Number of Albums')\n",
    "\n",
    "for i, nalbums in enumerate(top_artist_by_n_albums['n_albums']):\n",
    "    height = nalbums\n",
    "    plot_artist_by_n_albums.text(x=i, y=height/2, s=str(i+1)+'°', ha='center', va='center', \n",
    "                   rotation=0, fontsize=9, fontweight='bold', color='white')"
   ]
  },
  {
   "cell_type": "markdown",
   "id": "f37d52a3",
   "metadata": {},
   "source": [
    "In addition to the TOP charts considered above, let now turn our attention to other useful KPIs which can help us understanding better our music habits. First of all, can we quantify how much we listen to an artist in relation to the extent of its music library? To answer this question we can define the following quantity:\n",
    "\n",
    "$$ \n",
    "\\xi_A = \\frac{\\sum_{i, pc>=1}^{N} (pc)_i}{N}\n",
    "$$\n",
    "\n",
    "that is, we sum all the play counts ($pc$) generated by an artist $A$ and divide the result by the total number of songs of the artist. However, we restrict our attention just to those songs that we have listened at least one time ($pc>=1$). Let's code!"
   ]
  },
  {
   "cell_type": "code",
   "execution_count": null,
   "id": "705d448f",
   "metadata": {},
   "outputs": [],
   "source": [
    "df_songs_played  = df_month[df_month['play_count']>=1]\n",
    "\n",
    "df_pc_artist = df_songs_played.groupby('artist')['play_count'].sum().to_frame().reset_index()\n",
    "df_total_songs_artist = df_songs_played.groupby('artist')['song_name'].nunique().to_frame().reset_index()\n",
    "df_total_songs_artist = df_total_songs_artist.rename(columns={'song_name':'n_songs'})\n",
    "df_total_songs_artist = df_total_songs_artist[df_total_songs_artist['n_songs']>1]\n",
    "\n",
    "#display(df_pc_artist.sort_values(by='play_count', ascending=False).head(10))\n",
    "#display(df_total_songs_artist.sort_values(by='n_songs', ascending=False).head(10))"
   ]
  },
  {
   "cell_type": "code",
   "execution_count": null,
   "id": "fe01fc20",
   "metadata": {
    "scrolled": false
   },
   "outputs": [],
   "source": [
    "# Join on Artist\n",
    "df_join_xi = df_pc_artist.merge(df_total_songs_artist, on='artist', how='inner')\n",
    "df_join_xi['xi'] = round(df_join_xi['play_count']/df_join_xi['n_songs'], 2)\n",
    "topN_xi = df_join_xi.sort_values(by='xi', ascending=False).head(n_topcharts)"
   ]
  },
  {
   "cell_type": "code",
   "execution_count": null,
   "id": "3c3a86b9",
   "metadata": {},
   "outputs": [],
   "source": [
    "# Let also see what songs of the above artists have been streamed the most\n",
    "artist_list = list(topN_xi['artist'])\n",
    "df_artist_topxi = df_month[df_month['artist'].isin(artist_list)]\n",
    "idx = df_artist_topxi.groupby('artist')['play_count'].idxmax()\n",
    "\n",
    "df_songs_topxi = df_artist_topxi.loc[idx][['artist', 'song_name', 'play_count']]\n",
    "\n",
    "df_songs_topxi['artist'] = pd.Categorical(df_songs_topxi['artist'], categories=artist_list, ordered=True)\n",
    "df_songs_topxi = df_songs_topxi.sort_values(by='artist')\n",
    "#display(df_songs_topxi)\n",
    "\n",
    "\n",
    "# Creating a bar plot\n",
    "plt.clf()\n",
    "    \n",
    "# Define fig, ax\n",
    "fig, (ax1, ax2) = plt.subplots(nrows=1, ncols=2, figsize=(14,6))\n",
    "fig.suptitle('Artists with at least 2 songs and play count>=1')\n",
    "\n",
    "# Make bar plot\n",
    "ax1.barh(topN_xi['artist'], topN_xi['xi'])\n",
    "ax1.set_xlabel(r'$\\xi$')\n",
    "ax1.set_ylabel('Artist')\n",
    "ax1.set_yticks(topN_xi['artist'])\n",
    "ax1.invert_yaxis()\n",
    "ax1.set_title(r'$\\xi$ value')\n",
    "\n",
    "# Make the second bar plot\n",
    "ax2.barh(df_songs_topxi['song_name'], df_songs_topxi['play_count'], color='orange')\n",
    "ax2.set_xlabel('Play Count')\n",
    "ax2.set_ylabel('Song name')\n",
    "ax2.set_yticks(df_songs_topxi['song_name'])\n",
    "ax2.invert_yaxis()\n",
    "ax2.set_title(r'Songs with Max Play Count among Top $\\xi$')\n",
    "\n",
    "plt.tight_layout()"
   ]
  },
  {
   "cell_type": "markdown",
   "id": "8f69e4fe",
   "metadata": {},
   "source": [
    "If we also include songs with a play count of zero, the situation may be significantly different. In this case, the corresponding $\\xi$ provides a more accurate measure of the degree to which an artist's song library is being \"consumed\". In addition, in the Apple Music Library, collaborative songs may be recorded as a distinct artist. In some cases, such a \"new\" artist may only be associated with few songs (maybe one or two), thus resulting in an increase in $\\xi$. To avoid this, we may consider artists with at least 3 songs:"
   ]
  },
  {
   "cell_type": "code",
   "execution_count": null,
   "id": "cff88c9e",
   "metadata": {},
   "outputs": [],
   "source": [
    "# Considering all songs:\n",
    "df_pc_artist_full = df_month.groupby('artist')['play_count'].sum().to_frame().reset_index()\n",
    "df_total_songs_artist_full = df_month.groupby('artist')['song_name'].nunique().to_frame().reset_index()\n",
    "df_total_songs_artist_full = df_total_songs_artist_full.rename(columns={'song_name':'n_songs'})\n",
    "df_total_songs_artist_full = df_total_songs_artist_full[df_total_songs_artist_full['n_songs']>=3]\n",
    "\n",
    "# Join \n",
    "df_join_xi_full = df_pc_artist_full.merge(df_total_songs_artist_full, on='artist', how='inner')\n",
    "df_join_xi_full['xi'] = round(df_join_xi_full['play_count']/df_join_xi_full['n_songs'], 2)\n",
    "topN_xi_full = df_join_xi_full.sort_values(by='xi', ascending=False).head(n_topcharts)\n",
    "\n",
    "# Let also see what songs of the above artists have been streamed the most\n",
    "artist_list_full = list(topN_xi_full['artist'])\n",
    "df_artist_topxi_full = df_month[df_month['artist'].isin(artist_list_full)]\n",
    "idx_full = df_artist_topxi_full.groupby('artist')['play_count'].idxmax()\n",
    "\n",
    "df_songs_topxi_full = df_artist_topxi_full.loc[idx_full][['artist', 'song_name', 'play_count']]\n",
    "\n",
    "df_songs_topxi_full['artist'] = pd.Categorical(df_songs_topxi_full['artist'], categories=artist_list_full, ordered=True)\n",
    "df_songs_topxi_full = df_songs_topxi_full.sort_values(by='artist')"
   ]
  },
  {
   "cell_type": "code",
   "execution_count": null,
   "id": "5420735f",
   "metadata": {
    "scrolled": false
   },
   "outputs": [],
   "source": [
    "# Creating a bar plot\n",
    "plt.clf()\n",
    "    \n",
    "# Define fig, ax\n",
    "fig, (ax1, ax2) = plt.subplots(nrows=1, ncols=2, figsize=(14,6))\n",
    "fig.suptitle('Artists with at least 3 songs and any play count')\n",
    "\n",
    "# Make bar plot\n",
    "ax1.barh(topN_xi_full['artist'], topN_xi_full['xi'])\n",
    "ax1.set_xlabel(r'$\\xi$')\n",
    "ax1.set_ylabel('Artist')\n",
    "ax1.set_yticks(topN_xi_full['artist'])\n",
    "ax1.invert_yaxis()\n",
    "ax1.set_title(r'$\\xi$ value')\n",
    "\n",
    "# Make the second bar plot\n",
    "ax2.barh(df_songs_topxi_full['song_name'], df_songs_topxi_full['play_count'], color='orange')\n",
    "ax2.set_xlabel('Play Count')\n",
    "ax2.set_ylabel('Song name')\n",
    "ax2.set_yticks(df_songs_topxi_full['song_name'])\n",
    "ax2.invert_yaxis()\n",
    "ax2.set_title(r'Songs with Max Play Count among Top $\\xi$')\n",
    "\n",
    "plt.tight_layout()"
   ]
  },
  {
   "cell_type": "markdown",
   "id": "b98acc6d",
   "metadata": {},
   "source": [
    "To analyze albums, we can replicate the above methodology by defining a $\\xi$ quantity as the total play count of all songs divided by the number of songs in the album. To make it more reasonable, we will limit our analysis to a subset of the albums in the library. Specifically, we will focus on albums that have at least 10 songs and where at least two songs have more than 1 play count."
   ]
  },
  {
   "cell_type": "code",
   "execution_count": null,
   "id": "063bc22d",
   "metadata": {
    "scrolled": true
   },
   "outputs": [],
   "source": [
    "# Group by album and count the number of songs with play count >= 1\n",
    "album_counts = df_month[df_month['play_count'] >= 1].groupby('album')['song_name'].count()\n",
    "\n",
    "# Filter for albums with at least two songs with play count >= 1\n",
    "filtered_albums = album_counts[album_counts >= 2].index\n",
    "\n",
    "# Filter the original dataframe for the selected albums\n",
    "filtered_df_month = df_month[df_month['album'].isin(filtered_albums)]\n",
    "\n",
    "# Group by album, find total play_count and distinct songs\n",
    "df_pc_albums = filtered_df_month.groupby('album').agg(\n",
    "    play_count=('play_count', 'sum'),\n",
    "    distinct_songs=('song_name', 'nunique')\n",
    ").reset_index()\n",
    "\n",
    "# Compute xi\n",
    "df_pc_albums['xi'] = round(df_pc_albums['play_count']/df_pc_albums['distinct_songs'], 2)\n",
    "topN_xi_albums = df_pc_albums.sort_values(by='xi', ascending=False).head(n_topcharts)"
   ]
  },
  {
   "cell_type": "code",
   "execution_count": null,
   "id": "65f8626a",
   "metadata": {
    "scrolled": false
   },
   "outputs": [],
   "source": [
    "# Creating a bar plot\n",
    "plt.clf()\n",
    "    \n",
    "# Define fig, ax\n",
    "fig, (ax1, ax2) = plt.subplots(nrows=1, ncols=2, figsize=(14,6))\n",
    "fig.suptitle('Albums with 10> songs and at least 2 songs with play_count>=1')\n",
    "\n",
    "# Make bar plot\n",
    "ax1.barh(topN_xi_albums['album'], topN_xi_albums['xi'], color='royalblue')\n",
    "ax1.set_xlabel(r'$\\xi$')\n",
    "ax1.set_ylabel('Album')\n",
    "ax1.set_yticks(topN_xi_albums['album'])\n",
    "ax1.invert_yaxis()\n",
    "ax1.set_title(fr'Top {n_topcharts} Albums by $\\xi$ value')\n",
    "\n",
    "# Make the second bar plot\n",
    "ax2.barh(topN_albums['album'], topN_albums['play_count'], color='green')\n",
    "ax2.set_xlabel('Play Count')\n",
    "ax2.set_ylabel('Album')\n",
    "ax2.set_yticks(topN_albums['album'])\n",
    "ax2.invert_yaxis()\n",
    "ax2.set_title(fr'Top {n_topcharts} Albums')\n",
    "\n",
    "plt.tight_layout()"
   ]
  },
  {
   "cell_type": "markdown",
   "id": "c4636b19",
   "metadata": {},
   "source": [
    "Another interesting analysis we could perform, based on a photograph of the music library, is to identify the years in which the most highly appreciated songs were released. To accomplish this, we can group the songs by their year of release and compute the total play count generated by all songs released in each year."
   ]
  },
  {
   "cell_type": "code",
   "execution_count": null,
   "id": "0302c42e",
   "metadata": {
    "scrolled": false
   },
   "outputs": [],
   "source": [
    "# Compute total play count by year of release\n",
    "year_release_pc = df_month.groupby('year_of_release')['play_count'].sum().to_frame().reset_index()\n",
    "\n",
    "# Complete the dataframe\n",
    "year_release_pc = year_release_pc.set_index('year_of_release')\n",
    "\n",
    "# create a new index with all the years from the minimum to the maximum\n",
    "new_index = pd.Index(range(year_release_pc.index.min(), year_release_pc.index.max() + 1), name='year_of_release')\n",
    "\n",
    "# reindex the dataframe with the new index, filling missing values with zeros\n",
    "year_release_pc = year_release_pc.reindex(new_index, fill_value=0).reset_index()\n",
    "\n",
    "#display(year_release_pc)\n",
    "\n",
    "yr_lineplot = plot_df(year_release_pc, 'line', 'year_of_release', \n",
    "                      'play_count', 'Year of Release', 'Play Count', 'blue', 'Play Count by Year of Release')\n",
    "\n",
    "yr_lineplot.fill_between(year_release_pc['year_of_release'], year_release_pc['play_count'], 0, color='blue')\n",
    "yr_lineplot.set_xticks(range(\n",
    "    min(year_release_pc['year_of_release']),\n",
    "    max(year_release_pc['year_of_release']),\n",
    "    2))\n",
    "\n",
    "\n",
    "# Customize plot\n",
    "df_2004 = df_month[df_month['year_of_release']==2004]\n",
    "top2004_album = df_2004.groupby('album')['play_count'].sum().to_frame().reset_index()\\\n",
    "    .sort_values(by='play_count', ascending=False).head(1).iloc[0,0]\n",
    "\n",
    "arrow = yr_lineplot.annotate(top2004_album,\n",
    "             xy=(2004, 500),  #location of the arrow\n",
    "             xytext=(2004, 2000),  # location of the string\n",
    "             horizontalalignment=\"center\",\n",
    "             arrowprops=dict(arrowstyle='->', color='black', lw=3))  # arrow properties"
   ]
  },
  {
   "cell_type": "markdown",
   "id": "f6602f63",
   "metadata": {},
   "source": [
    "To conclude our point-in-time analysis, let's see which albums were the most streamed in each release year:"
   ]
  },
  {
   "cell_type": "code",
   "execution_count": null,
   "id": "88f48b8b",
   "metadata": {
    "scrolled": true
   },
   "outputs": [],
   "source": [
    "# Find top 5 albums each year (using filtered_df_month)\n",
    "top3_album_yr = filtered_df_month.groupby(['year_of_release', 'album'])['play_count'].sum().to_frame().reset_index()\n",
    "\n",
    "top3_album_yr = top3_album_yr.merge(year_release_pc, on='year_of_release', how='left')\n",
    "top3_album_yr = top3_album_yr.rename(columns={'play_count_x':'play_count_album', 'play_count_y':'play_count_year'})\n",
    "\n",
    "# Computing %\n",
    "top3_album_yr['%_pc'] = round(top3_album_yr['play_count_album']/top3_album_yr['play_count_year']*100, 2)\n",
    "\n",
    "top3_album_yr = top3_album_yr.groupby('year_of_release').apply(lambda x: x.nlargest(3, '%_pc')).reset_index(drop=True)\n",
    "top3_album_yr = top3_album_yr[['year_of_release', 'album', '%_pc']]\n",
    "\n",
    "# Find remanining %\n",
    "other_yr = top3_album_yr.groupby('year_of_release')['%_pc'].sum().to_frame().reset_index()\n",
    "other_yr['%_other'] = round(100.0-other_yr['%_pc'], 2)\n",
    "other_yr['album'] = 'Other'\n",
    "other_yr = other_yr[['year_of_release', 'album', '%_other']].rename(columns={'%_other':'%_pc'})\n",
    "\n",
    "# Concat two dataframes\n",
    "top3_album_yr = pd.concat([top3_album_yr, other_yr])\n",
    "top3_album_yr = top3_album_yr.sort_values(by=['year_of_release', '%_pc'], ascending=[True, False])"
   ]
  },
  {
   "cell_type": "code",
   "execution_count": null,
   "id": "8dd2fa21",
   "metadata": {},
   "outputs": [],
   "source": [
    "# Filter just last n years\n",
    "n = 3\n",
    "current_year = datetime.datetime.now().year\n",
    "last_n_year = top3_album_yr[current_year-top3_album_yr['year_of_release']<n]\n",
    "\n",
    "# aggregate the data by year and album to get the total percentage for each album in each year\n",
    "agg_df = last_n_year.groupby(['year_of_release', 'album'])['%_pc'].sum().unstack(fill_value=0)\n",
    "agg_df = agg_df.div(agg_df.sum(axis=1), axis=0)\n",
    "\n",
    "agg_df = agg_df.multiply(100)\n",
    "\n",
    "import matplotlib.cm as cm\n",
    "\n",
    "# define the colormap and the normalization\n",
    "cmap = cm.get_cmap('Reds')\n",
    "\n",
    "# Creating a bar plot\n",
    "plt.clf()\n",
    "    \n",
    "# plot the stacked bar chart\n",
    "ax = agg_df.plot(kind='bar', stacked=True, figsize=(12, 4), rot=0, cmap=cmap)\n",
    "\n",
    "# set the x-axis label\n",
    "ax.set_xlabel('Year')\n",
    "\n",
    "# set the y-axis label\n",
    "ax.set_ylabel('Percentage')\n",
    "\n",
    "# set the title of the chart\n",
    "ax.set_title('100% Stacked Bar Chart')\n",
    "\n",
    "# add legend to the chart\n",
    "ax.legend(loc='upper center', bbox_to_anchor=(0.5, -0.15), ncol=4)"
   ]
  }
 ],
 "metadata": {
  "kernelspec": {
   "display_name": "Python 3.9.12 ('base')",
   "language": "python",
   "name": "python3912jvsc74a57bd03d597f4c481aa0f25dceb95d2a0067e73c0966dcbd003d741d821a7208527ecf"
  },
  "language_info": {
   "codemirror_mode": {
    "name": "ipython",
    "version": 3
   },
   "file_extension": ".py",
   "mimetype": "text/x-python",
   "name": "python",
   "nbconvert_exporter": "python",
   "pygments_lexer": "ipython3",
   "version": "3.9.12"
  }
 },
 "nbformat": 4,
 "nbformat_minor": 5
}
